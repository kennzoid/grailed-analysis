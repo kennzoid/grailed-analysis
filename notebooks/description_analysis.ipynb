{
 "cells": [
  {
   "cell_type": "markdown",
   "metadata": {},
   "source": [
    "# Description Analysis"
   ]
  },
  {
   "cell_type": "markdown",
   "metadata": {},
   "source": [
    "## Setup"
   ]
  },
  {
   "cell_type": "code",
   "execution_count": 69,
   "metadata": {
    "collapsed": false
   },
   "outputs": [],
   "source": [
    "%matplotlib inline\n",
    "\n",
    "import matplotlib.pyplot as plt\n",
    "import numpy as np\n",
    "import pandas as pd\n",
    "import scipy.stats\n",
    "\n",
    "from sklearn.cross_validation import train_test_split\n",
    "from sklearn.feature_extraction.text import CountVectorizer, TfidfVectorizer\n",
    "from sklearn.linear_model import SGDRegressor\n",
    "from sklearn.svm import SVR\n",
    "from sklearn.preprocessing import LabelEncoder\n",
    "\n",
    "plt.style.use('ggplot')"
   ]
  },
  {
   "cell_type": "markdown",
   "metadata": {},
   "source": [
    "Adding some useful columns"
   ]
  },
  {
   "cell_type": "code",
   "execution_count": 70,
   "metadata": {
    "collapsed": false
   },
   "outputs": [],
   "source": [
    "listings_df = pd.read_csv('scraper/create_dataset/listings.csv')\n",
    "listings_df['created_at'] = pd.to_datetime(listings_df['created_at'])\n",
    "listings_df['sold_at'] = pd.to_datetime(listings_df['sold_at'])\n",
    "listings_df['sold_at_day_of_week'] = listings_df['sold_at'].dt.dayofweek\n",
    "listings_df['sold_at_hour_of_day'] = listings_df['sold_at'].dt.hour\n",
    "listings_df['sold_at_date'] = listings_df['sold_at'].dt.date"
   ]
  },
  {
   "cell_type": "markdown",
   "metadata": {},
   "source": [
    "Adding time-to-sell column (seconds)"
   ]
  },
  {
   "cell_type": "code",
   "execution_count": 3,
   "metadata": {
    "collapsed": false
   },
   "outputs": [],
   "source": [
    "delta_to_seconds = lambda x: x.total_seconds()\n",
    "listings_df['sale_delta'] = listings_df['sold_at'] - listings_df['created_at']\n",
    "listings_df['sale_delta_seconds'] = listings_df['sale_delta'].apply(delta_to_seconds)\n",
    "listings_df['sale_delta_days'] = listings_df['sale_delta_seconds']/86400"
   ]
  },
  {
   "cell_type": "markdown",
   "metadata": {},
   "source": [
    "Added encoded designer_name as a column"
   ]
  },
  {
   "cell_type": "code",
   "execution_count": 5,
   "metadata": {
    "collapsed": false
   },
   "outputs": [],
   "source": [
    "designer_encoder = LabelEncoder()\n",
    "designer_names_encoded = designer_encoder.fit_transform(listings_df['designer_name'])\n",
    "listings_df['designer_name_encoded'] = designer_names_encoded"
   ]
  },
  {
   "cell_type": "markdown",
   "metadata": {},
   "source": [
    "Other"
   ]
  },
  {
   "cell_type": "code",
   "execution_count": 38,
   "metadata": {
    "collapsed": true
   },
   "outputs": [],
   "source": [
    "designer_counts = listings_df.groupby('designer_name').count()"
   ]
  },
  {
   "cell_type": "code",
   "execution_count": 131,
   "metadata": {
    "collapsed": false
   },
   "outputs": [],
   "source": [
    "significant_designers = list(designer_counts[designer_counts['id'] > 25].sort_values(by='id', ascending=False).index)\n",
    "top_designers = significant_designers[:50]"
   ]
  },
  {
   "cell_type": "code",
   "execution_count": 39,
   "metadata": {
    "collapsed": true
   },
   "outputs": [],
   "source": [
    "sold_listings_df = listings_df[listings_df['sold'] == 1]"
   ]
  },
  {
   "cell_type": "markdown",
   "metadata": {},
   "source": [
    "## Word Counts for Various Designers (if this is promising, let's do word maps!)"
   ]
  },
  {
   "cell_type": "code",
   "execution_count": 138,
   "metadata": {
    "collapsed": false
   },
   "outputs": [],
   "source": [
    "designers_joined_desc = listings_df.groupby('designer_name')['description'].apply(sum)\n",
    "significant_designer_df = designers_joined_desc[significant_designers]"
   ]
  },
  {
   "cell_type": "code",
   "execution_count": 140,
   "metadata": {
    "collapsed": false
   },
   "outputs": [],
   "source": [
    "designer_index_map = {designer: index for index, designer in enumerate(significant_designer_df.index)}"
   ]
  },
  {
   "cell_type": "code",
   "execution_count": 157,
   "metadata": {
    "collapsed": false
   },
   "outputs": [],
   "source": [
    "vectorizer = TfidfVectorizer(stop_words='english', max_df=0.7)\n",
    "tfidf_features = vectorizer.fit_transform(significant_designer_df)"
   ]
  },
  {
   "cell_type": "code",
   "execution_count": 161,
   "metadata": {
    "collapsed": false,
    "scrolled": false
   },
   "outputs": [
    {
     "name": "stdout",
     "output_type": "stream",
     "text": [
      "DESIGNER: Supreme\n",
      "logo\n",
      "tee\n",
      "bag\n",
      "box\n",
      "camp\n",
      "sticker\n",
      "stickers\n",
      "ds\n",
      "hat\n",
      "hoodie\n",
      "washed\n",
      "cracking\n",
      "cap\n",
      "deadstock\n",
      "trades\n",
      "store\n",
      "priority\n",
      "online\n",
      "navy\n",
      "red\n",
      "\n",
      "DESIGNER: Nike\n",
      "box\n",
      "flyknit\n",
      "air\n",
      "shoes\n",
      "og\n",
      "shoe\n",
      "max\n",
      "jordan\n",
      "pair\n",
      "force\n",
      "laces\n",
      "deadstock\n",
      "boxed\n",
      "roshe\n",
      "racer\n",
      "colorway\n",
      "11\n",
      "ds\n",
      "tech\n",
      "sole\n",
      "\n",
      "DESIGNER: Bape\n",
      "bathing\n",
      "japan\n",
      "camo\n",
      "baggage\n",
      "tokyo\n",
      "bag\n",
      "trips\n",
      "shark\n",
      "carry\n",
      "book\n",
      "essentials\n",
      "release\n",
      "activity\n",
      "tracking\n",
      "upgrades\n",
      "flair\n",
      "worldwide\n",
      "packaging\n",
      "mail\n",
      "bonus\n",
      "\n",
      "DESIGNER: Rick Owens\n",
      "drkshdw\n",
      "box\n",
      "nbsp\n",
      "font\n",
      "ramones\n",
      "geobaskets\n",
      "span\n",
      "italy\n",
      "mainline\n",
      "ro\n",
      "milk\n",
      "strong\n",
      "dust\n",
      "sole\n",
      "shoulder\n",
      "48\n",
      "geobasket\n",
      "silk\n",
      "vicious\n",
      "laces\n",
      "\n",
      "DESIGNER: Jordan Brand\n",
      "box\n",
      "air\n",
      "retro\n",
      "og\n",
      "creasing\n",
      "shoes\n",
      "shoe\n",
      "nike\n",
      "bred\n",
      "receipt\n",
      "11\n",
      "release\n",
      "deadstock\n",
      "ds\n",
      "cement\n",
      "boxed\n",
      "pair\n",
      "replacement\n",
      "yellowing\n",
      "toe\n",
      "\n"
     ]
    }
   ],
   "source": [
    "def print_top_tfidf_words(designer_name, num_words, feature_names):\n",
    "    print 'DESIGNER: {}'.format(designer_name)\n",
    "    ordered_word_inidices = tfidf_features[designer_index_map[designer_name]].toarray()[0].argsort()[::-1]\n",
    "    \n",
    "    printed = 0\n",
    "    index = 0\n",
    "    while printed < num_words:\n",
    "        word = feature_names[ordered_word_inidices[index]]\n",
    "        index += 1\n",
    "        if word in designer_name.lower() or designer_name.lower() in word:\n",
    "            continue\n",
    "        print word\n",
    "        printed += 1\n",
    "    print\n",
    "        \n",
    "feature_names = vectorizer.get_feature_names()\n",
    "for designer_name in top_designers[:5]:\n",
    "        print_top_tfidf_words(designer_name, 20, feature_names)"
   ]
  },
  {
   "cell_type": "code",
   "execution_count": null,
   "metadata": {
    "collapsed": true
   },
   "outputs": [],
   "source": []
  }
 ],
 "metadata": {
  "kernelspec": {
   "display_name": "Python 2",
   "language": "python",
   "name": "python2"
  },
  "language_info": {
   "codemirror_mode": {
    "name": "ipython",
    "version": 2
   },
   "file_extension": ".py",
   "mimetype": "text/x-python",
   "name": "python",
   "nbconvert_exporter": "python",
   "pygments_lexer": "ipython2",
   "version": "2.7.10"
  }
 },
 "nbformat": 4,
 "nbformat_minor": 0
}
