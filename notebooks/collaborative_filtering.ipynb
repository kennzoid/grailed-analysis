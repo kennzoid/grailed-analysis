{
 "cells": [
  {
   "cell_type": "markdown",
   "metadata": {},
   "source": [
    "# Collaborative Filtering on Grailed Data"
   ]
  },
  {
   "cell_type": "markdown",
   "metadata": {},
   "source": [
    "## Setup"
   ]
  },
  {
   "cell_type": "code",
   "execution_count": 5,
   "metadata": {
    "collapsed": false
   },
   "outputs": [],
   "source": [
    "%matplotlib inline\n",
    "\n",
    "import matplotlib.pyplot as plt\n",
    "import numpy as np\n",
    "import pandas as pd\n",
    "import scipy.stats\n",
    "\n",
    "from IPython.display import display, Image, HTML\n",
    "from collections import defaultdict\n",
    "from multiprocessing.dummy import Pool\n",
    "from sklearn.cluster import AgglomerativeClustering, KMeans\n",
    "from sklearn.metrics import jaccard_similarity_score\n",
    "from sklearn.preprocessing import normalize\n",
    "from scipy.io import mmread, mmwrite\n",
    "from scipy.sparse import lil_matrix\n",
    "from scipy.stats import pearsonr\n",
    "\n",
    "plt.style.use('ggplot')"
   ]
  },
  {
   "cell_type": "code",
   "execution_count": 2,
   "metadata": {
    "collapsed": false
   },
   "outputs": [],
   "source": [
    "listings_df = pd.read_csv('../scraper/create_dataset/listings.csv')\n",
    "users_df = pd.read_csv('../scraper/create_dataset/users.csv')\n",
    "listing_user_follow_df = pd.read_csv('../scraper/create_dataset/listing_user_follow.csv')\n",
    "photos_df = pd.read_csv('../scraper/create_dataset/photos.csv')"
   ]
  },
  {
   "cell_type": "code",
   "execution_count": 3,
   "metadata": {
    "collapsed": true
   },
   "outputs": [],
   "source": [
    "listings_df.index = listings_df['id']"
   ]
  },
  {
   "cell_type": "code",
   "execution_count": 4,
   "metadata": {
    "collapsed": true
   },
   "outputs": [],
   "source": [
    "designer_counts = listings_df.groupby('designer_name').count()\n",
    "designers_of_interest = set(designer_counts[designer_counts['id'] > 25].index.values)"
   ]
  },
  {
   "cell_type": "markdown",
   "metadata": {},
   "source": [
    "## Item Suggestions Based on Followers"
   ]
  },
  {
   "cell_type": "markdown",
   "metadata": {},
   "source": [
    "Creating the Item-User matrix"
   ]
  },
  {
   "cell_type": "code",
   "execution_count": 11,
   "metadata": {
    "collapsed": false,
    "scrolled": true
   },
   "outputs": [],
   "source": [
    "listings_with_followers = listings_df[listings_df['follower_count'] > 0]\n",
    "listing_list = list(listings_with_followers.index)\n",
    "listing_map = {listing:idx for idx, listing in enumerate(listing_list)}\n",
    "\n",
    "max_listing_id = len(listing_list)\n",
    "max_user_id = max(users_df['id'])+1"
   ]
  },
  {
   "cell_type": "code",
   "execution_count": 12,
   "metadata": {
    "collapsed": false
   },
   "outputs": [],
   "source": [
    "# # save for post, use the stored file for convenience\n",
    "\n",
    "# user_item_matrix = lil_matrix((max_listing_id, max_user_id))\n",
    "\n",
    "# for index, row in listing_user_follow_df.iterrows():\n",
    "#     if row['listing_id'] in listing_map:\n",
    "#         user_item_matrix[listing_map[row['listing_id']], row['user_id']] = 1\n",
    "\n",
    "# mmwrite('cached_matrices/user_item_with_followers.mtx', user_item_matrix)"
   ]
  },
  {
   "cell_type": "code",
   "execution_count": 13,
   "metadata": {
    "collapsed": false
   },
   "outputs": [],
   "source": [
    "user_item_matrix = mmread('cached_matrices/user_item_with_followers.mtx').tolil()"
   ]
  },
  {
   "cell_type": "markdown",
   "metadata": {},
   "source": [
    "Item-Item Collaborative Filtering"
   ]
  },
  {
   "cell_type": "code",
   "execution_count": 14,
   "metadata": {
    "collapsed": false
   },
   "outputs": [],
   "source": [
    "def get_suggestions(item_of_interest_id, user_item_matrix, search_space):\n",
    "    \n",
    "    def pearson(item_to_compare_id):\n",
    "        correlation, p_value = pearsonr(\n",
    "            user_item_matrix[item_to_compare_id, :].toarray()[0],\n",
    "            user_item_matrix[item_of_interest_id, :].toarray()[0],\n",
    "        )\n",
    "        if item_to_compare_id == item_of_interest_id or np.isnan(correlation):\n",
    "            correlation = np.float64(-1)\n",
    "        return correlation\n",
    "    \n",
    "    pool = Pool()\n",
    "    pearson_values = pool.map(pearson, search_space)\n",
    "    pool.close()\n",
    "    pool.join()\n",
    "    \n",
    "    sorted_suggestions = np.argsort(pearson_values)[::-1]\n",
    "    return [search_space[idx] for idx in sorted_suggestions]\n",
    "\n",
    "def print_suggestions(suggestions, num_suggestions=10):\n",
    "    html_string = ''\n",
    "    for listing_id in suggestions[:num_suggestions]:\n",
    "        suggested_listing = listings_df[listings_df['id'] == listing_id]\n",
    "        suggested_listing_designer = suggested_listing['designer_name'].values[0]\n",
    "        suggested_listing_title = suggested_listing['title'].values[0]\n",
    "        photo_url = photos_df[photos_df['listing_id'] == listing_id]['url'].values[0]\n",
    "\n",
    "        html_string += '<div style=\"display: inline-block; padding: {}px;\">'.format(5)\n",
    "        html_string += '<img src=\"{}\" style=\"height: {}px;\"/>'.format(photo_url, 200)\n",
    "        html_string += '<div>{}</div>'.format(suggested_listing_designer)\n",
    "        html_string += '<div>{}</div>'.format(suggested_listing_title)\n",
    "        html_string += '</div>'\n",
    "    display(HTML(html_string))"
   ]
  },
  {
   "cell_type": "code",
   "execution_count": null,
   "metadata": {
    "collapsed": false
   },
   "outputs": [],
   "source": [
    "# comparing the item against all listings is too big a task atm, let's try a random sample\n",
    "# listing_sample = np.random.choice(range(max_listing_id), size=100000)\n",
    "listing_sample = range(max_listing_id)\n",
    "\n",
    "# this is a Raf Simons fishtail\n",
    "raf_suggestions = [listing_list[idx] for idx in get_suggestions(listing_map[408449], user_item_matrix, listing_sample)]"
   ]
  },
  {
   "cell_type": "code",
   "execution_count": 18,
   "metadata": {
    "collapsed": false
   },
   "outputs": [
    {
     "data": {
      "text/html": [
       "<div style=\"display: inline-block; padding: 5px;\"><img src=\"https://d1qz9pzgo5wm5k.cloudfront.net/api/file/lZVd725HT9yPzXzdxoxD\" style=\"height: 200px;\"/><div>Raf Simons</div><div>NEW Clusters Hooded Blouson</div></div><div style=\"display: inline-block; padding: 5px;\"><img src=\"https://d1qz9pzgo5wm5k.cloudfront.net/api/file/tF9jmPzAQEWK3O6mPlV6\" style=\"height: 200px;\"/><div>Raf Simons</div><div>Sterling Ruby Jeans</div></div><div style=\"display: inline-block; padding: 5px;\"><img src=\"https://d1qz9pzgo5wm5k.cloudfront.net/api/file/Y1GSEzvnQISoHEqf1KD2\" style=\"height: 200px;\"/><div>Cav Empt</div><div>Warm Parka #2</div></div><div style=\"display: inline-block; padding: 5px;\"><img src=\"https://d1qz9pzgo5wm5k.cloudfront.net/api/file/FFjUq20S7Kmp1oG1nvWD\" style=\"height: 200px;\"/><div>Raf Simons</div><div>Raf Simons Zip Sweater</div></div><div style=\"display: inline-block; padding: 5px;\"><img src=\"https://d1qz9pzgo5wm5k.cloudfront.net/api/file/kvVJeYYScG46d3rAvZAM\" style=\"height: 200px;\"/><div>Raf Simons</div><div>Isolated heroes</div></div><div style=\"display: inline-block; padding: 5px;\"><img src=\"https://d1qz9pzgo5wm5k.cloudfront.net/api/file/kVHqVAhAQgObaph3KPcO\" style=\"height: 200px;\"/><div>Raf Simons</div><div>SS03 'Consumed' Bomber</div></div><div style=\"display: inline-block; padding: 5px;\"><img src=\"https://d1qz9pzgo5wm5k.cloudfront.net/api/file/EAFYirDlSkujDbwsuddu\" style=\"height: 200px;\"/><div>Raf Simons</div><div>Sterling Ruby - CRIM NEG Jeans</div></div><div style=\"display: inline-block; padding: 5px;\"><img src=\"https://d1qz9pzgo5wm5k.cloudfront.net/api/file/zsfYpHCFS3WuDoXCOKWX\" style=\"height: 200px;\"/><div>Raf Simons</div><div>Eye Short Sleeve Sweatshirt</div></div><div style=\"display: inline-block; padding: 5px;\"><img src=\"https://d1qz9pzgo5wm5k.cloudfront.net/api/file/UtDOXxgLQdh9hf3LuGgC\" style=\"height: 200px;\"/><div>Raf Simons X Sterling Ruby</div><div>Fathers/Abus Lang Sweatshirt</div></div><div style=\"display: inline-block; padding: 5px;\"><img src=\"https://d1qz9pzgo5wm5k.cloudfront.net/api/file/xq1mX9fQgS58gXILKiKg\" style=\"height: 200px;\"/><div>Raf Simons X Sterling Ruby</div><div>Raf simons sweater</div></div>"
      ],
      "text/plain": [
       "<IPython.core.display.HTML object>"
      ]
     },
     "metadata": {},
     "output_type": "display_data"
    }
   ],
   "source": [
    "print_suggestions(raf_suggestions)"
   ]
  },
  {
   "cell_type": "markdown",
   "metadata": {},
   "source": [
    "## Designer Suggestions Based on Followers, Buyers, and Sellers"
   ]
  },
  {
   "cell_type": "markdown",
   "metadata": {},
   "source": [
    "Creating the Designer-User matrix"
   ]
  },
  {
   "cell_type": "code",
   "execution_count": 19,
   "metadata": {
    "collapsed": true
   },
   "outputs": [],
   "source": [
    "designer_list = list(designers_of_interest)\n",
    "designer_map = {designer:idx for idx, designer in enumerate(designer_list)}"
   ]
  },
  {
   "cell_type": "code",
   "execution_count": null,
   "metadata": {
    "collapsed": false
   },
   "outputs": [],
   "source": [
    "# save for post, use the stored file for convenience\n",
    "\n",
    "max_designer_id = len(designer_list)\n",
    "max_user_id = max(users_df['id']) + 1\n",
    "user_designer_matrix = lil_matrix((max_designer_id, max_user_id))\n",
    "\n",
    "for index, row in listings_df.iterrows():\n",
    "    if row['designer_name'] not in designers_of_interest:\n",
    "        continue\n",
    "\n",
    "    if not np.isnan(row['buyer_id']):\n",
    "        user_designer_matrix[designer_map[row['designer_name']], row['buyer_id']] += 1\n",
    "\n",
    "    user_designer_matrix[designer_map[row['designer_name']], row['seller_id']] += 1\n",
    "\n",
    "for index, row in listing_user_follow_df.iterrows():\n",
    "    designer = listings_df[listings_df['id'] == row['listing_id']]['designer_name'].values[0]\n",
    "    \n",
    "    if designer in designers_of_interest:\n",
    "        user_designer_matrix[designer_map[designer], row['user_id']] += 1\n",
    "\n",
    "mmwrite('cached_matrices/user_designer.mtx', user_designer_matrix)"
   ]
  },
  {
   "cell_type": "code",
   "execution_count": 20,
   "metadata": {
    "collapsed": false
   },
   "outputs": [],
   "source": [
    "user_designer_matrix = mmread('cached_matrices/user_designer.mtx').tolil()"
   ]
  },
  {
   "cell_type": "markdown",
   "metadata": {},
   "source": [
    "Designer-Designer Collaborative Filtering"
   ]
  },
  {
   "cell_type": "code",
   "execution_count": 21,
   "metadata": {
    "collapsed": false
   },
   "outputs": [
    {
     "data": {
      "text/plain": [
       "['Patrik Ervell',\n",
       " 'Norse Projects',\n",
       " 'A.P.C.',\n",
       " 'Dana Lee',\n",
       " 'Nonnative',\n",
       " 'Engineered Garments',\n",
       " 'Wings + Horns',\n",
       " 'Acne Studios',\n",
       " 'Stephan Schneider',\n",
       " 'Common Projects']"
      ]
     },
     "execution_count": 21,
     "metadata": {},
     "output_type": "execute_result"
    }
   ],
   "source": [
    "designer_suggestions = get_suggestions(designer_map['Our Legacy'], user_designer_matrix, range(len(designer_list)))\n",
    "[designer_list[idx] for idx in designer_suggestions][:10]"
   ]
  },
  {
   "cell_type": "code",
   "execution_count": 22,
   "metadata": {
    "collapsed": false
   },
   "outputs": [
    {
     "data": {
      "text/plain": [
       "['Number (N)ine',\n",
       " 'Raf Simons',\n",
       " 'Helmut Lang',\n",
       " 'Junya Watanabe',\n",
       " 'Comme Des Garcons',\n",
       " 'Undercover X Uniqlo',\n",
       " 'Dior',\n",
       " 'Cav Empt',\n",
       " 'Diet Butcher Slim Skin',\n",
       " 'Maison Margiela']"
      ]
     },
     "execution_count": 22,
     "metadata": {},
     "output_type": "execute_result"
    }
   ],
   "source": [
    "designer_suggestions = get_suggestions(designer_map['Undercover'], user_designer_matrix, range(len(designer_list)))\n",
    "[designer_list[idx] for idx in designer_suggestions][:10]"
   ]
  },
  {
   "cell_type": "markdown",
   "metadata": {},
   "source": [
    "## Clustering via Agglomerative Clustering (using Pearson Correlation as distance)"
   ]
  },
  {
   "cell_type": "code",
   "execution_count": 23,
   "metadata": {
    "collapsed": false
   },
   "outputs": [],
   "source": [
    " def print_clusters(labels):\n",
    "    clusters = defaultdict(list)\n",
    "    for designer_id, cluster in enumerate(labels):\n",
    "        clusters[cluster].append(designer_id)\n",
    "\n",
    "    for cluster, designer_ids in clusters.iteritems():\n",
    "        designer_names = [designer_list[id] for id in designer_ids if not pd.isnull(designer_list[id])]\n",
    "        designer_num_listings = [designer_counts.loc[designer_name][0] for designer_name in designer_names]\n",
    "        clusters[cluster] = [designer_names[idx] for idx in np.argsort(designer_num_listings)[::-1]]\n",
    "\n",
    "\n",
    "    html_string = ''\n",
    "    for cluster, designers in clusters.iteritems():\n",
    "        html_string += '<div style=\"display: inline-block; vertical-align: top; padding: 5px;\"'\n",
    "        html_string += '<h1>{}: {} designers</h1>'.format(cluster, len(designers))\n",
    "        html_string += '<ol>'\n",
    "\n",
    "        for designer in designers[:20]:\n",
    "            html_string += '<li>{}</li>'.format(designer)\n",
    "\n",
    "        html_string += '</ol>'\n",
    "        html_string += '</div>'\n",
    "    display(HTML(html_string))"
   ]
  },
  {
   "cell_type": "code",
   "execution_count": 24,
   "metadata": {
    "collapsed": false
   },
   "outputs": [],
   "source": [
    "normalized_user_designer_matrix = normalize(user_designer_matrix, axis=0, norm='l1')"
   ]
  },
  {
   "cell_type": "code",
   "execution_count": 25,
   "metadata": {
    "collapsed": false
   },
   "outputs": [],
   "source": [
    "def pearson_affinity(M):\n",
    "    return 1 - np.array([[pearsonr(a,b)[0] for a in M] for b in M])\n",
    "\n",
    "pearson_matrix = pearson_affinity(normalized_user_designer_matrix.toarray())\n",
    "mmwrite('cached_matrices/designer_pearson.mtx', pearson_matrix)"
   ]
  },
  {
   "cell_type": "code",
   "execution_count": 26,
   "metadata": {
    "collapsed": false
   },
   "outputs": [],
   "source": [
    "pearson_matrix = mmread('cached_matrices/designer_pearson.mtx')"
   ]
  },
  {
   "cell_type": "code",
   "execution_count": 27,
   "metadata": {
    "collapsed": false
   },
   "outputs": [
    {
     "data": {
      "text/html": [
       "<div style=\"display: inline-block; vertical-align: top; padding: 5px;\"<h1>0: 275 designers</h1><ol><li>Nike</li><li>Jordan Brand</li><li>J. Crew</li><li>Polo Ralph Lauren</li><li>Ralph Lauren</li><li>Levis</li><li>Uniqlo</li><li>H&M</li><li>New Balance</li><li>Stussy</li><li>Banana Republic</li><li>Vintage</li><li>Brooks Brothers</li><li>Kith Nyc</li><li>Club Monaco</li><li>Nike Sb</li><li>Gap</li><li>Tommy Hilfiger</li><li>Zara</li><li>Asics</li></ol></div><div style=\"display: inline-block; vertical-align: top; padding: 5px;\"<h1>1: 181 designers</h1><ol><li>Supreme</li><li>Bape</li><li>Adidas</li><li>Palace</li><li>Adidas X Kanye West</li><li>Gosha Rubchinskiy</li><li>Vans</li><li>Adidas X Raf Simons</li><li>Fear Of God</li><li>Anti Social Social Club</li><li>Y-3</li><li>Kanye West</li><li>Cav Empt</li><li>Billionaire Boys Club</li><li>Off-White</li><li>Hood By Air</li><li>Adidas X Palace</li><li>Adidas Y-3</li><li>Comme Des Garcons X Supreme</li><li>Supreme X Jordan Brand</li></ol></div><div style=\"display: inline-block; vertical-align: top; padding: 5px;\"<h1>2: 263 designers</h1><ol><li>Rick Owens</li><li>Saint Laurent Paris</li><li>Raf Simons</li><li>Comme Des Garcons</li><li>Undercover</li><li>Maison Margiela</li><li>John Elliott + Co</li><li>Julius</li><li>Helmut Lang</li><li>Balmain</li><li>Dior</li><li>Givenchy</li><li>Yohji Yamamoto</li><li>Rick Owens Drkshdw</li><li>Alexander Wang</li><li>Burberry</li><li>Gucci</li><li>Nudie Jeans</li><li>Balenciaga</li><li>Louis Vuitton</li></ol></div><div style=\"display: inline-block; vertical-align: top; padding: 5px;\"<h1>3: 7 designers</h1><ol><li>J Brand</li><li>Prps</li><li>Goorin Bros.</li><li>Robins Jeans</li><li>Adidas X Bape X Undefeated</li><li>Clarks Original</li><li>Prps Goods & Co</li></ol></div><div style=\"display: inline-block; vertical-align: top; padding: 5px;\"<h1>4: 240 designers</h1><ol><li>Acne Studios</li><li>A.P.C.</li><li>Visvim</li><li>Common Projects</li><li>Naked & Famous</li><li>Engineered Garments</li><li>Our Legacy</li><li>Norse Projects</li><li>Robert Geller</li><li>Wings + Horns</li><li>Gitman Bros. Vintage</li><li>Gustin</li><li>Red Wing</li><li>Rogue Territory</li><li>Allen Edmonds</li><li>Outlier</li><li>Patrik Ervell</li><li>3sixteen</li><li>Stephan Schneider</li><li>Reigning Champ</li></ol></div>"
      ],
      "text/plain": [
       "<IPython.core.display.HTML object>"
      ]
     },
     "metadata": {},
     "output_type": "display_data"
    }
   ],
   "source": [
    "agg = AgglomerativeClustering(n_clusters=5, affinity='precomputed', linkage='average')\n",
    "agg.fit(pearson_matrix)\n",
    "print_clusters(agg.labels_)"
   ]
  },
  {
   "cell_type": "markdown",
   "metadata": {},
   "source": [
    "These are ordered by number of listings, NOT by their closeness to the centroid of the cluster.\n",
    "\n",
    "Explain that the weird cluster is not uncategorized but that they're kind of peculiar and lie very far away from the other clusters."
   ]
  },
  {
   "cell_type": "code",
   "execution_count": null,
   "metadata": {
    "collapsed": true
   },
   "outputs": [],
   "source": []
  }
 ],
 "metadata": {
  "kernelspec": {
   "display_name": "Python 2",
   "language": "python",
   "name": "python2"
  },
  "language_info": {
   "codemirror_mode": {
    "name": "ipython",
    "version": 2
   },
   "file_extension": ".py",
   "mimetype": "text/x-python",
   "name": "python",
   "nbconvert_exporter": "python",
   "pygments_lexer": "ipython2",
   "version": "2.7.10"
  }
 },
 "nbformat": 4,
 "nbformat_minor": 0
}
